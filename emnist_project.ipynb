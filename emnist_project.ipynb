{
 "cells": [
  {
   "cell_type": "markdown",
   "metadata": {},
   "source": [
    "# Data Preparation"
   ]
  },
  {
   "cell_type": "code",
   "execution_count": 1,
   "metadata": {},
   "outputs": [
    {
     "name": "stdout",
     "output_type": "stream",
     "text": [
      "Training set size: 112800 images\n",
      "Test set size: 18800 images\n"
     ]
    }
   ],
   "source": [
    "import torch\n",
    "import torchvision\n",
    "from torchvision import transforms\n",
    "from torchvision.datasets import EMNIST\n",
    "\n",
    "data_dir = \"data\"\n",
    "\n",
    "# Load the EMNIST dataset\n",
    "train_dataset = EMNIST(\n",
    "    root=data_dir,\n",
    "    train=True, # loads the training dataset\n",
    "    split=\"balanced\",\n",
    "    download=True,  # Downloads dataset if not already downloaded\n",
    "    transform=transforms.ToTensor(),  # Converts PIL images to Torch tensors\n",
    ")\n",
    "\n",
    "test_dataset = EMNIST( # loads the test dataset\n",
    "    root=data_dir,\n",
    "    train=False, # load the test set\n",
    "    split=\"balanced\",\n",
    "    download=True,\n",
    "    transform=transforms.ToTensor(),\n",
    ")\n",
    "\n",
    "# Display dataset details\n",
    "print(f\"Training set size: {len(train_dataset)} images\")\n",
    "print(f\"Test set size: {len(test_dataset)} images\")"
   ]
  },
  {
   "cell_type": "markdown",
   "metadata": {},
   "source": [
    "# Explanations:\n",
    "\n",
    "---\n",
    "**torch** - lib. for deep learning and tensor computations\n",
    "\n",
    "**torchvision** - package that contains utilities for image processing and datasets\n",
    "\n",
    "**transforms** - submodule in torchvision for image transformation, e.g. to tensors\n",
    "\n",
    "**split = \"balanced\"** - split letters+digits\n",
    "\n",
    "**transform = transforms.ToTensor(**) - converts images from PIL fromat to tensors\n",
    "\n",
    "print number of images in training and dataset\n",
    "\n",
    "**balanced split conatins** - 47 classess of 10 digits, 26 uppercase adn 22 lowercase letters\n",
    "\n",
    "The code dowloads the EMNIST balanced dataset, loads it into PyTorch as tensors, spearates it nto training and data sets and prints the dataset sizes.\n",
    "\n",
    "Tensor - multi-deimensional array used in machine learning and deep learning.\\\n",
    "For example image tensor, change [1, 28, 28] to [28, 28] - [H,W]"
   ]
  },
  {
   "cell_type": "markdown",
   "metadata": {},
   "source": [
    "# Exploring Dataset"
   ]
  },
  {
   "cell_type": "code",
   "execution_count": 2,
   "metadata": {},
   "outputs": [
    {
     "name": "stdout",
     "output_type": "stream",
     "text": [
      "Classes in the dataset:\n",
      "['0', '1', '2', '3', '4', '5', '6', '7', '8', '9', 'A', 'B', 'C', 'D', 'E', 'F', 'G', 'H', 'I', 'J', 'K', 'L', 'M', 'N', 'O', 'P', 'Q', 'R', 'S', 'T', 'U', 'V', 'W', 'X', 'Y', 'Z', 'a', 'b', 'd', 'e', 'f', 'g', 'h', 'n', 'q', 'r', 't']\n"
     ]
    }
   ],
   "source": [
    "classes = train_dataset.classes\n",
    "print(f\"Classes in the dataset:\\n{classes}\")"
   ]
  },
  {
   "cell_type": "code",
   "execution_count": 3,
   "metadata": {},
   "outputs": [
    {
     "name": "stdout",
     "output_type": "stream",
     "text": [
      "Image shape: torch.Size([1, 28, 28])\n"
     ]
    },
    {
     "data": {
      "image/png": "[encoded data removed]",
      "text/plain": [
       "<Figure size 640x480 with 1 Axes>"
      ]
     },
     "metadata": {},
     "output_type": "display_data"
    },
    {
     "name": "stdout",
     "output_type": "stream",
     "text": [
      "Image shape: torch.Size([1, 28, 28]) (channels, height, width)\n"
     ]
    }
   ],
   "source": [
    "%matplotlib inline\n",
    "import matplotlib.pyplot as plt\n",
    "\n",
    "image, label = train_dataset[0] # receives first image and label from training dataset\n",
    "print(f\"Image shape: {image.shape}\")\n",
    "plt.imshow(image.squeeze(), cmap=\"gray\") # image shape is [1, 28, 28] (colour channels, height, width)\n",
    "plt.title(f\"Label : {label}\") # class number as title\n",
    "plt.show()\n",
    "print(f\"Image shape: {image.shape} (channels, height, width)\") # confirms original shape"
   ]
  },
  {
   "cell_type": "markdown",
   "metadata": {},
   "source": [
    "# Explanations:\n",
    "\n",
    "---\n",
    "**image** - Pytorch tensor containing pixel values\n",
    "\n",
    "**label** - numeric label corresponding to images\n",
    "\n",
    "**.squeeze()** - removes dimensions of size 1, so [28, 28]"
   ]
  },
  {
   "cell_type": "code",
   "execution_count": 4,
   "metadata": {},
   "outputs": [
    {
     "data": {
      "text/plain": [
       "tensor([[[0.0000, 0.0000, 0.0000, 0.0000, 0.0000, 0.0000, 0.0000, 0.0000,\n",
       "          0.0000, 0.0000, 0.0000, 0.0000, 0.0000, 0.0000, 0.0000, 0.0000,\n",
       "          0.0000, 0.0000, 0.0000, 0.0000, 0.0000, 0.0000, 0.0000, 0.0000,\n",
       "          0.0000, 0.0000, 0.0000, 0.0000],\n",
       "         [0.0000, 0.0000, 0.0000, 0.0000, 0.0000, 0.0000, 0.0000, 0.0000,\n",
       "          0.0000, 0.0000, 0.0000, 0.0000, 0.0000, 0.0000, 0.0000, 0.0000,\n",
       "          0.0000, 0.0000, 0.0000, 0.0000, 0.0000, 0.0000, 0.0000, 0.0000,\n",
       "          0.0000, 0.0000, 0.0000, 0.0000],\n",
       "         [0.0000, 0.0000, 0.0000, 0.0000, 0.0000, 0.0000, 0.0000, 0.0039,\n",
       "          0.0275, 0.1255, 0.1412, 0.0824, 0.0118, 0.0000, 0.0000, 0.0000,\n",
       "          0.0000, 0.0000, 0.0000, 0.0000, 0.0000, 0.0000, 0.0000, 0.0000,\n",
       "          0.0000, 0.0000, 0.0000, 0.0000],\n",
       "         [0.0000, 0.0000, 0.0000, 0.0000, 0.0000, 0.0000, 0.0000, 0.0314,\n",
       "          0.1294, 0.4431, 0.4863, 0.3176, 0.0863, 0.0275, 0.0000, 0.0000,\n",
       "          0.0000, 0.0000, 0.0000, 0.0000, 0.0000, 0.0000, 0.0000, 0.0000,\n",
       "          0.0000, 0.0000, 0.0000, 0.0000],\n",
       "         [0.0000, 0.0000, 0.0000, 0.0000, 0.0000, 0.0000, 0.0078, 0.3020,\n",
       "          0.6196, 0.9529, 0.9765, 0.9098, 0.6235, 0.3725, 0.1333, 0.0784,\n",
       "          0.0039, 0.0000, 0.0000, 0.0000, 0.0000, 0.0000, 0.0000, 0.0000,\n",
       "          0.0000, 0.0000, 0.0000, 0.0000],\n",
       "         [0.0000, 0.0000, 0.0000, 0.0000, 0.0000, 0.0000, 0.0157, 0.4863,\n",
       "          0.8353, 0.9961, 0.9961, 0.9961, 0.9686, 0.9176, 0.7922, 0.6039,\n",
       "          0.0902, 0.0000, 0.0000, 0.0000, 0.0000, 0.0000, 0.0000, 0.0000,\n",
       "          0.0000, 0.0000, 0.0000, 0.0000],\n",
       "         [0.0000, 0.0000, 0.0000, 0.0000, 0.0000, 0.0000, 0.0157, 0.4471,\n",
       "          0.7961, 0.9961, 0.9961, 0.9961, 0.9961, 0.9882, 0.9490, 0.8118,\n",
       "          0.2314, 0.0275, 0.0039, 0.0000, 0.0000, 0.0000, 0.0000, 0.0000,\n",
       "          0.0000, 0.0000, 0.0000, 0.0000],\n",
       "         [0.0000, 0.0000, 0.0000, 0.0000, 0.0000, 0.0000, 0.0000, 0.1765,\n",
       "          0.4784, 0.9020, 0.9608, 0.9882, 0.9961, 0.9961, 0.9961, 0.9765,\n",
       "          0.8118, 0.3569, 0.1412, 0.0157, 0.0078, 0.0000, 0.0000, 0.0000,\n",
       "          0.0000, 0.0000, 0.0000, 0.0000],\n",
       "         [0.0000, 0.0000, 0.0000, 0.0000, 0.0000, 0.0000, 0.0000, 0.0784,\n",
       "          0.2627, 0.6667, 0.8000, 0.9255, 0.9961, 0.9961, 0.9961, 0.9961,\n",
       "          0.9569, 0.6392, 0.3765, 0.1294, 0.0745, 0.0000, 0.0000, 0.0000,\n",
       "          0.0000, 0.0000, 0.0000, 0.0000],\n",
       "         [0.0000, 0.0000, 0.0000, 0.0000, 0.0000, 0.0000, 0.0000, 0.0000,\n",
       "          0.0118, 0.0941, 0.1765, 0.6275, 0.9843, 0.9961, 1.0000, 0.9961,\n",
       "          0.9961, 0.9686, 0.9176, 0.7451, 0.4745, 0.0314, 0.0000, 0.0000,\n",
       "          0.0000, 0.0000, 0.0000, 0.0000],\n",
       "         [0.0000, 0.0000, 0.0000, 0.0000, 0.0000, 0.0000, 0.0000, 0.0000,\n",
       "          0.0118, 0.2627, 0.4824, 0.8706, 0.9961, 0.9961, 1.0000, 1.0000,\n",
       "          0.9961, 0.9961, 0.9961, 0.9569, 0.7922, 0.1255, 0.0000, 0.0000,\n",
       "          0.0000, 0.0000, 0.0000, 0.0000],\n",
       "         [0.0000, 0.0000, 0.0000, 0.0000, 0.0000, 0.0000, 0.0000, 0.0039,\n",
       "          0.0392, 0.4824, 0.7647, 0.9686, 0.9961, 0.9961, 1.0000, 1.0000,\n",
       "          1.0000, 0.9961, 0.9961, 0.9529, 0.7843, 0.1255, 0.0000, 0.0000,\n",
       "          0.0000, 0.0000, 0.0000, 0.0000],\n",
       "         [0.0000, 0.0000, 0.0000, 0.0000, 0.0000, 0.0000, 0.0000, 0.0784,\n",
       "          0.3020, 0.8627, 0.9686, 0.9961, 0.9961, 0.9961, 0.9882, 0.9843,\n",
       "          0.9882, 0.9961, 0.9882, 0.6941, 0.3725, 0.0275, 0.0000, 0.0000,\n",
       "          0.0000, 0.0000, 0.0000, 0.0000],\n",
       "         [0.0000, 0.0000, 0.0000, 0.0000, 0.0000, 0.0000, 0.0000, 0.1961,\n",
       "          0.5451, 0.9804, 0.9961, 0.9961, 0.9765, 0.9176, 0.6784, 0.5569,\n",
       "          0.6745, 0.8431, 0.8353, 0.4314, 0.1294, 0.0000, 0.0000, 0.0000,\n",
       "          0.0000, 0.0000, 0.0000, 0.0000],\n",
       "         [0.0000, 0.0000, 0.0000, 0.0000, 0.0000, 0.0000, 0.0078, 0.3216,\n",
       "          0.6745, 0.9882, 0.9961, 0.9961, 0.9176, 0.7333, 0.3294, 0.2039,\n",
       "          0.3216, 0.4902, 0.4902, 0.2471, 0.0706, 0.0000, 0.0000, 0.0000,\n",
       "          0.0000, 0.0000, 0.0000, 0.0000],\n",
       "         [0.0000, 0.0000, 0.0000, 0.0000, 0.0000, 0.0000, 0.0157, 0.4902,\n",
       "          0.8431, 0.9961, 0.9961, 0.9882, 0.6784, 0.3294, 0.0157, 0.0039,\n",
       "          0.0078, 0.0157, 0.0157, 0.0078, 0.0000, 0.0000, 0.0000, 0.0000,\n",
       "          0.0000, 0.0000, 0.0000, 0.0000],\n",
       "         [0.0000, 0.0000, 0.0000, 0.0000, 0.0000, 0.0000, 0.0157, 0.4980,\n",
       "          0.8510, 0.9961, 0.9961, 0.9608, 0.4510, 0.1333, 0.0000, 0.0000,\n",
       "          0.0000, 0.0000, 0.0000, 0.0000, 0.0000, 0.0000, 0.0000, 0.0000,\n",
       "          0.0000, 0.0000, 0.0000, 0.0000],\n",
       "         [0.0000, 0.0000, 0.0000, 0.0000, 0.0000, 0.0000, 0.0157, 0.4980,\n",
       "          0.8510, 0.9961, 0.9961, 0.9137, 0.3216, 0.0824, 0.0000, 0.0000,\n",
       "          0.0000, 0.0000, 0.0000, 0.0000, 0.0000, 0.0000, 0.0000, 0.0000,\n",
       "          0.0000, 0.0000, 0.0000, 0.0000],\n",
       "         [0.0000, 0.0000, 0.0000, 0.0000, 0.0000, 0.0000, 0.0157, 0.4980,\n",
       "          0.8510, 0.9961, 0.9961, 0.8510, 0.1529, 0.0196, 0.0000, 0.0000,\n",
       "          0.0000, 0.0000, 0.0000, 0.0000, 0.0000, 0.0000, 0.0000, 0.0000,\n",
       "          0.0000, 0.0000, 0.0000, 0.0000],\n",
       "         [0.0000, 0.0000, 0.0000, 0.0000, 0.0000, 0.0000, 0.0157, 0.4980,\n",
       "          0.8510, 0.9961, 0.9961, 0.8510, 0.1451, 0.0157, 0.0000, 0.0000,\n",
       "          0.0000, 0.0000, 0.0000, 0.0000, 0.0000, 0.0000, 0.0000, 0.0000,\n",
       "          0.0000, 0.0000, 0.0000, 0.0000],\n",
       "         [0.0000, 0.0000, 0.0000, 0.0000, 0.0000, 0.0000, 0.0157, 0.4980,\n",
       "          0.8510, 0.9961, 0.9961, 0.8510, 0.1451, 0.0157, 0.0000, 0.0000,\n",
       "          0.0000, 0.0000, 0.0000, 0.0000, 0.0000, 0.0000, 0.0000, 0.0000,\n",
       "          0.0000, 0.0000, 0.0000, 0.0000],\n",
       "         [0.0000, 0.0000, 0.0000, 0.0000, 0.0000, 0.0000, 0.0157, 0.4902,\n",
       "          0.8431, 0.9961, 0.9961, 0.8510, 0.1451, 0.0157, 0.0000, 0.0000,\n",
       "          0.0000, 0.0000, 0.0000, 0.0000, 0.0000, 0.0000, 0.0000, 0.0000,\n",
       "          0.0000, 0.0000, 0.0000, 0.0000],\n",
       "         [0.0000, 0.0000, 0.0000, 0.0000, 0.0000, 0.0000, 0.0157, 0.4471,\n",
       "          0.7961, 0.9961, 0.9961, 0.8431, 0.1451, 0.0157, 0.0000, 0.0000,\n",
       "          0.0000, 0.0000, 0.0000, 0.0000, 0.0000, 0.0000, 0.0000, 0.0000,\n",
       "          0.0000, 0.0000, 0.0000, 0.0000],\n",
       "         [0.0000, 0.0000, 0.0000, 0.0000, 0.0000, 0.0000, 0.0000, 0.1765,\n",
       "          0.4784, 0.8980, 0.9333, 0.6196, 0.0784, 0.0078, 0.0000, 0.0000,\n",
       "          0.0000, 0.0000, 0.0000, 0.0000, 0.0000, 0.0000, 0.0000, 0.0000,\n",
       "          0.0000, 0.0000, 0.0000, 0.0000],\n",
       "         [0.0000, 0.0000, 0.0000, 0.0000, 0.0000, 0.0000, 0.0000, 0.0196,\n",
       "          0.0784, 0.3137, 0.3922, 0.1294, 0.0039, 0.0000, 0.0000, 0.0000,\n",
       "          0.0000, 0.0000, 0.0000, 0.0000, 0.0000, 0.0000, 0.0000, 0.0000,\n",
       "          0.0000, 0.0000, 0.0000, 0.0000],\n",
       "         [0.0000, 0.0000, 0.0000, 0.0000, 0.0000, 0.0000, 0.0000, 0.0000,\n",
       "          0.0078, 0.0784, 0.1059, 0.0275, 0.0000, 0.0000, 0.0000, 0.0000,\n",
       "          0.0000, 0.0000, 0.0000, 0.0000, 0.0000, 0.0000, 0.0000, 0.0000,\n",
       "          0.0000, 0.0000, 0.0000, 0.0000],\n",
       "         [0.0000, 0.0000, 0.0000, 0.0000, 0.0000, 0.0000, 0.0000, 0.0000,\n",
       "          0.0000, 0.0000, 0.0000, 0.0000, 0.0000, 0.0000, 0.0000, 0.0000,\n",
       "          0.0000, 0.0000, 0.0000, 0.0000, 0.0000, 0.0000, 0.0000, 0.0000,\n",
       "          0.0000, 0.0000, 0.0000, 0.0000],\n",
       "         [0.0000, 0.0000, 0.0000, 0.0000, 0.0000, 0.0000, 0.0000, 0.0000,\n",
       "          0.0000, 0.0000, 0.0000, 0.0000, 0.0000, 0.0000, 0.0000, 0.0000,\n",
       "          0.0000, 0.0000, 0.0000, 0.0000, 0.0000, 0.0000, 0.0000, 0.0000,\n",
       "          0.0000, 0.0000, 0.0000, 0.0000]]])"
      ]
     },
     "execution_count": 4,
     "metadata": {},
     "output_type": "execute_result"
    }
   ],
   "source": [
    "image"
   ]
  },
  {
   "cell_type": "markdown",
   "metadata": {},
   "source": [
    "# Explanations:\n",
    "\n",
    "---\n",
    "Output is a PyTorch tensor representing an image from the EMNIST dataset. The values inside the tensor represent pixel intensties ina grayscale image. This pattern forms the shape of a letter or number\n"
   ]
  },
  {
   "cell_type": "markdown",
   "metadata": {},
   "source": [
    "# Calculate Mean and Standard Deviation"
   ]
  },
  {
   "cell_type": "code",
   "execution_count": 5,
   "metadata": {},
   "outputs": [
    {
     "name": "stdout",
     "output_type": "stream",
     "text": [
      "Mean: 0.17506267130374908\n",
      "Mean: 0.33320266008377075\n"
     ]
    }
   ],
   "source": [
    "import torch\n",
    "import torchvision\n",
    "from torch.utils.data import DataLoader\n",
    "\n",
    "train_loader = DataLoader(dataset=train_dataset, batch_size=1024, shuffle=False)\n",
    "\n",
    "def get_mean_std(loader):\n",
    "    # VAR[X] = E[X**2] - E[X]**2\n",
    "    channels_sum, channels_squares_sum, num_batches = 0, 0, 0\n",
    "\n",
    "    for data, _ in loader: # iterates over batches of data from train_loader\n",
    "        channels_sum += torch.mean(data, dim=[0,2,3])\n",
    "        channels_squares_sum += torch.mean(data**2, dim=[0,2,3])\n",
    "        num_batches += 1 # keeps track of number of batches processed\n",
    "\n",
    "    mean = channels_sum / num_batches\n",
    "    std = (channels_squares_sum/num_batches - mean**2)**0.5\n",
    "\n",
    "    return mean, std\n",
    "\n",
    "mean, std = get_mean_std(train_loader)\n",
    "\n",
    "# Extract value from tensor\n",
    "mean = mean.item()\n",
    "std = std.item()\n",
    "\n",
    "print(f\"Mean: {mean}\")\n",
    "print(f\"Mean: {std}\")"
   ]
  },
  {
   "cell_type": "markdown",
   "metadata": {},
   "source": [
    "# Explanations:\n",
    "\n",
    "---\n",
    "Normalize the images properly and standardize pixel values for better model training. Ensures stabilty by preventing large gradients during learning.\n",
    "\n",
    "**DataLoader** - loads data in mini-batches for training\n",
    "\n",
    "**train_loader** - wraps train_dataset inside DataLoader to efficiently iterate over batches\n",
    "\n",
    "**channels_sum** - stores sum of pixel values\n",
    "\n",
    "**channels_squares_sum** - stores sum of squared pixel values\n",
    "\n",
    "**num_batches** - keeps track of number of batches processed\n",
    "\n",
    "**Computing the mean** - torch.mean(data, dim=[0,2,3])\n",
    "takes mean of all pixels across batch which is dim-0 and across hieght and width (28x28) denoted by dim=2,3\n",
    "Gives single mean value per channel since greyscale, adds the channels_sum\n",
    "\n",
    "**Mean** - average insensity of pixels across entire dataset. mean of 0.1307 means that, on average, the pixels in the dataset are slightly darker than black\n",
    "\n",
    "**Calculating squared mean of batch** -\n",
    "torch.mean(data**2, dim=[0,2,3])\n",
    "\n",
    "**Computing final mean and standard deviation** - mean - mean = channels_sum / num_batches\n",
    "Varivance calculation to get Std:\n",
    "\n",
    "VAR[X]=E[X\n",
    "^2\n",
    " ]−(E[X])\n",
    "^2\n",
    "\n",
    "STD[X]=\n",
    "sqrt(VAR[X])\n",
    "​\n",
    "\n",
    "**Std** - how much pixel values vary from mean. A higher std would mean that the dataset has more contrast\n"
   ]
  },
  {
   "cell_type": "markdown",
   "metadata": {},
   "source": [
    "# Loading Data"
   ]
  },
  {
   "cell_type": "code",
   "execution_count": 6,
   "metadata": {
    "collapsed": false,
    "jupyter": {
     "outputs_hidden": false
    }
   },
   "outputs": [],
   "source": [
    "import torch\n",
    "import torchvision\n",
    "from torchvision import datasets, transforms\n",
    "from torch.utils.data import DataLoader\n",
    "\n",
    "data_transform = { # transforms images before feeding into model\n",
    "    'train' : transforms.Compose([\n",
    "        transforms.ToTensor(),\n",
    "        transforms.Normalize([mean,], [std,]) # centers pixel values around 0, mean removal, normalizes using mean and std values\n",
    "    ]),\n",
    "\n",
    "    'test' : transforms.Compose([\n",
    "        transforms.ToTensor(),\n",
    "        transforms.Normalize([mean,], [std,])\n",
    "    ]),\n",
    "}\n",
    "\n",
    "# Reloading dataset\n",
    "\n",
    "dataset = {\n",
    "    'train': datasets.EMNIST(\n",
    "        root = data_dir,\n",
    "        split = 'balanced',\n",
    "        train = True,\n",
    "        download = True,\n",
    "        transform = data_transform['train']\n",
    "    ),\n",
    "\n",
    "    'test': datasets.EMNIST(\n",
    "        root = data_dir,\n",
    "        split = 'balanced',\n",
    "        train = False,\n",
    "        download = True,\n",
    "        transform = data_transform['test']\n",
    "    )\n",
    "}\n",
    "\n",
    "dataloaders = { # wraps datasets in DataLoader to load images in mini-batches\n",
    "    x: DataLoader(dataset[x], batch_size=128, shuffle=True, num_workers=2)\n",
    "    for x in ['train', 'test']\n",
    "}\n",
    "\n",
    "class_names = dataset['train'].classes # contain names of classes used for interpreting labels\n",
    "dataset_sizes = {x: len(dataset[x]) for x in ['train', 'test']} # stores number of images\n",
    "\n",
    "device = torch.device(\"cuda:0\" if torch.cuda.is_available() else \"cpu\")"
   ]
  },
  {
   "cell_type": "markdown",
   "metadata": {},
   "source": [
    "# Explanations:\n",
    "\n",
    "---\n",
    "**Transform** - apply normalization"
   ]
  },
  {
   "cell_type": "markdown",
   "metadata": {},
   "source": [
    "# Visualize Data"
   ]
  },
  {
   "cell_type": "code",
   "execution_count": 7,
   "metadata": {},
   "outputs": [
    {
     "data": {
      "image/png": "[encoded data removed]",
      "text/plain": [
       "<Figure size 640x480 with 1 Axes>"
      ]
     },
     "metadata": {},
     "output_type": "display_data"
    }
   ],
   "source": [
    "%matplotlib inline\n",
    "import numpy as np\n",
    "import matplotlib.pyplot as plt\n",
    "\n",
    "def imshow(inp, title=None):\n",
    "    \"\"\"Display image for Tensor.\"\"\"\n",
    "    inp = inp.numpy().transpose((1, 2, 0))\n",
    "    mean = np.array([0.1750,])\n",
    "    std = np.array([0.3332,])\n",
    "    inp = std * inp + mean\n",
    "    inp = np.clip(inp, 0, 1)\n",
    "    plt.imshow(inp)\n",
    "    if title is not None:\n",
    "        plt.title(title)\n",
    "    plt.pause(0.001)  # pause a bit so that plots are updated\n",
    "\n",
    "# Get a batch of training data\n",
    "inputs, classes = next(iter(dataloaders['train']))\n",
    "\n",
    "# Make a grid from batch\n",
    "out = torchvision.utils.make_grid(inputs[:10], nrow=10)\n",
    "\n",
    "imshow(out, title=[class_names[x] for x in classes[:10]])"
   ]
  },
  {
   "cell_type": "markdown",
   "metadata": {},
   "source": [
    "# Explanations:\n",
    "\n",
    "---\n",
    "**inp.numpy()** - converts PyTorch to NumPy array\n",
    "\n",
    "**.transpose((1, 2, 0))** - rearranges dimensons from (channels, ehight, width) to (height, width, channels)\n",
    "\n",
    "reverse normalization through np.array()\n",
    "\n",
    "**inp = np.clip(inp, 0, 1)** - ensures pixel values stay in valid range\n",
    "\n",
    "**normalize** - as matplotlib does not understand negatve pixel values and won't display them correctly"
   ]
  },
  {
   "cell_type": "markdown",
   "metadata": {},
   "source": [
    "# Training model\n",
    "\n",
    "This is a general function to train a model. \\\n",
    "We schedule the learning rate and save the best model.\n",
    "\n",
    "## Important keywords:\n",
    "\n",
    "* torch.cuda.empty_cache() - Clears unused gpu memory\n",
    "* cudnn.benchmark = True - Enables inbuilt cudnn auto-tuner to find best algorithm to use for your hardware\n",
    "* torch.save() - Save tensors using .pt file extension\n",
    "* model.state_dict() - Python dictionary object that maps each layer to its parameter tensor\n",
    "* mode.train() - Sets the mode to training\n",
    "* model.eval() - Sets the mode to evaluate/testing\n",
    "* inputs.to(device) - Necessary to have both the model and data on the same device\n",
    "* optimizer.zero_grad() - Sets gradients of all model parameters to zero. Typically, done before starting to do backpropagation\n",
    "* torch.set_grad_enabled() - Will enable or disable gradients locally\n",
    "* torch.max() - Returns the maximum value of all elements in the input tensor\n",
    "* loss.backward() - Crucial part of backpropagation that computes the gradients of the loss with respect to all learnable parameters (weights, biases) in the model\n",
    "* optimizer.step() - Perform a single optimization step to update paraneters.\n",
    "* scheduler.step() - Adjust learning rate during training, based on the learning rate schedule\\\n",
    "\n",
    "## How does the code work?\n",
    "1. Preparation:\n",
    "   * Create temporary directory (TemporaryDirectory)to store the best model parameters\n",
    "   * Save intial model parameters to best_model_params_path\n",
    "2. Training loop:\n",
    "   * Iterate over num_epochs and for every epoch:\n",
    "     * Print epoch details\n",
    "     * Iterate through two phases 'train' and 'test'\n",
    "3. Training and Validation phase:\n",
    "   * Training phase:\n",
    "     * Set model to traning mode (model.train())\n",
    "     * Iterate through the training dataset (dataloaders['train'])\n",
    "     * Move inputs and labels to the appropiate device (inputs.to(device) & labels.to(device))\n",
    "     * Clear opimizer gradients (optimizer.zero_grad())\n",
    "     * Perform forward propagation\n",
    "     * Compute loss\n",
    "     * Perform backpropagation (loss.backward())\n",
    "     * Update model weights (optimizer.step())\n",
    "     * Track statistics (loss and accuracy)\n",
    "     * Adjust learning rate (scheduler.step())\n",
    "   * Validation phase:\n",
    "     * Set model to evaluation mode (model.eval())\n",
    "     * Do not update gradients (torch.set_grad_enabled(phase == 'train'))\n",
    "     * Compute loss and accuracy on validation set\n",
    "     * Save the best model if accuracy improved\n",
    "\n",
    "   \n",
    "Gradients are \"stored\" by the tensors themselves (they have a grad and a requires_grad attributes) once you call backward() on the loss. After computing the gradients for all tensors in the model, calling optimizer.step() makes the optimizer iterate over all parameters (tensors) it is supposed to update and use their internally stored grad to update their values."
   ]
  },
  {
   "cell_type": "code",
   "execution_count": 8,
   "metadata": {
    "collapsed": false,
    "jupyter": {
     "outputs_hidden": false
    }
   },
   "outputs": [],
   "source": [
    "import torch\n",
    "from tempfile import TemporaryDirectory\n",
    "import torch.nn as nn\n",
    "import torch.optim as optim\n",
    "from torch.optim import lr_scheduler\n",
    "import torch.backends.cudnn as cudnn\n",
    "import time\n",
    "import os\n",
    "\n",
    "torch.cuda.empty_cache() # clear unused gpu memory\n",
    "cudnn.benchmark = True # Enables inbuilt auto-tuner to find best algorithm for your hardware\n",
    "\n",
    "def train_model(model, criterion, optimizer, scheduler, num_epochs):\n",
    "    since = time.time()\n",
    "\n",
    "    # Create a temporary directory to save training checkpoints\n",
    "    # Tracking best models weights \n",
    "    # Only the best model is kept\n",
    "    with TemporaryDirectory() as tempdir:\n",
    "        \n",
    "        best_model_params_path = os.path.join(tempdir, 'best_model_params.pt')\n",
    "        torch.save(model.state_dict(), best_model_params_path)\n",
    "        \n",
    "        best_acc = 0.0\n",
    "\n",
    "        for epoch in range(num_epochs):\n",
    "            \n",
    "            # Print out epochs - see later on\n",
    "            print(f'Epoch {epoch}/{num_epochs - 1}')\n",
    "            print('-' * 10)\n",
    "\n",
    "            # Each epoch has a training and testing/validation phase\n",
    "            for phase in ['train', 'test']:\n",
    "                if phase == 'train':\n",
    "                    model.train()  # Set model to training mode\n",
    "                else:\n",
    "                    model.eval()   # Set model to evaluate mode\n",
    "\n",
    "                running_loss = 0.0\n",
    "                running_corrects = 0\n",
    "\n",
    "                # Iterate over data.\n",
    "                for inputs, labels in dataloaders[phase]:\n",
    "                    inputs = inputs.to(device)\n",
    "                    labels = labels.to(device)\n",
    "\n",
    "                    # zero the parameter gradients\n",
    "                    optimizer.zero_grad()\n",
    "\n",
    "                    # forward\n",
    "                    # track history if only in train\n",
    "                    with torch.set_grad_enabled(phase == 'train'):\n",
    "                        outputs = model(inputs)\n",
    "                        _, preds = torch.max(outputs, 1)\n",
    "                        loss = criterion(outputs, labels)\n",
    "\n",
    "                        # backward + optimize only if in training phase\n",
    "                        if phase == 'train':\n",
    "                            loss.backward()\n",
    "                            optimizer.step()\n",
    "\n",
    "                    # statistics\n",
    "                    running_loss += loss.item() * inputs.size(0)\n",
    "                    running_corrects += torch.sum(preds == labels.data)\n",
    "                if phase == 'train':\n",
    "                    scheduler.step()\n",
    "\n",
    "                epoch_loss = running_loss / dataset_sizes[phase]\n",
    "                epoch_acc = running_corrects.double() / dataset_sizes[phase]\n",
    "\n",
    "                print(f'{phase} Loss: {epoch_loss:.4f} Acc: {epoch_acc:.4f}')\n",
    "\n",
    "                # deep copy the model\n",
    "                if phase == 'test' and epoch_acc > best_acc:\n",
    "                    best_acc = epoch_acc\n",
    "                    torch.save(model.state_dict(), best_model_params_path)\n",
    "\n",
    "            print()\n",
    "\n",
    "        time_elapsed = time.time() - since\n",
    "        print(f'Training complete in {time_elapsed // 60:.0f}m {time_elapsed % 60:.0f}s')\n",
    "        print(f'Best val Acc: {best_acc:4f}')\n",
    "\n",
    "        # load best model weights\n",
    "        model.load_state_dict(torch.load(best_model_params_path, weights_only=True))\n",
    "    return model"
   ]
  },
  {
   "cell_type": "markdown",
   "metadata": {},
   "source": [
    "# Visualizing model predictions"
   ]
  },
  {
   "cell_type": "code",
   "execution_count": 9,
   "metadata": {
    "collapsed": false,
    "jupyter": {
     "outputs_hidden": false
    }
   },
   "outputs": [],
   "source": [
    "def visualize_model(model, num_images=6):\n",
    "    was_training = model.training\n",
    "    model.eval()\n",
    "    images_so_far = 0\n",
    "    fig = plt.figure()\n",
    "\n",
    "    with torch.no_grad():\n",
    "        for i, (inputs, labels) in enumerate(dataloaders['test']):\n",
    "            inputs = inputs.to(device)\n",
    "            labels = labels.to(device)\n",
    "\n",
    "            outputs = model(inputs)\n",
    "            _, preds = torch.max(outputs, 1)\n",
    "\n",
    "            for j in range(inputs.size()[0]):\n",
    "                images_so_far += 1\n",
    "                ax = plt.subplot(num_images//2, 2, images_so_far)\n",
    "                ax.axis('off')\n",
    "                ax.set_title(f'predicted: {class_names[preds[j]]}')\n",
    "                imshow(inputs.cpu().data[j])\n",
    "\n",
    "                if images_so_far == num_images:\n",
    "                    model.train(mode=was_training)\n",
    "                    return\n",
    "        model.train(mode=was_training)"
   ]
  },
  {
   "cell_type": "markdown",
   "metadata": {},
   "source": [
    "# Explanations:\n",
    "\n",
    "---\n",
    "**visualize_model** - vsualizes model predictions on the test dataset by displaying images along with predicted values\n",
    "\n",
    "**evaluation mode** - disables dropout, batch norm updates\n",
    "\n",
    "**with torch.no_grad():** - turns off gradient calculations to save memory and speed up inference, gradients are only needed during training\n",
    "\n",
    "**.to(device)** - moves to GPU if available\n",
    "\n",
    "**torch.max(outputs, 1)** - gets class with highest probablity for each image\n",
    "\n",
    "**preds** - contains predicted labels\n",
    "\n",
    "**imshow()** - de-normalize image\n",
    "goes back to orginal mode"
   ]
  },
  {
   "cell_type": "markdown",
   "metadata": {},
   "source": [
    "# Finetuning ConvNet\n",
    "\n",
    "Modifies pre-trained ResNet-50 model by adjusting the input and output layers, setting up the loss function, optimizer, and learning rate scheduler. Why use a pre-trained model?\n",
    "*   Faster training (pre-learned features)\n",
    "*   Better performance with fewer labeled examples\n",
    "\n",
    "ResNet-50 expects RGB images (3 channels), but EMNIST is grayscale (1 channel).\n",
    "\n",
    "## Important keywords:\n",
    "\n",
    "* model = resnet50(weights='IMAGENET1K_V1') - Loads pre-trained ResNet-50 model with weights that were defined on the IMAGENET1K_V1 dataset\n",
    "* model.fc.in_features - Fully connected layer in ResNet50 has input size of 2048 which gets extracted\n",
    "* model.fc = nn.Linear() - Replaces final classification layer with new fully connected layer\n",
    "  * input = num_ftrs - 2048\n",
    "  * output = num_classes - 47\n",
    "* model.conv1 = nn.Conv2d(1, 64, kernel_size=3, padding=1) - Replaces first convolutional layer\n",
    "  * Input channels: 1 (grayscale instead of RGB)\n",
    "  * Output channels: 64 (number of feature maps extracted)\n",
    "  * Kernel size = 3x3 (instead of 7x7, better for small 28x28 images)\n",
    "  * Padding = 1 ensures output size remains unchanged\n",
    "* nn.CrossEntropyLoss() - Compares the model’s predictions to the actual class labels.\n",
    "* optim.SGD(model.parameters() - Stochastic gradient descent used for optimization\n",
    "* lr=0.002 - Learning rate (controls step size in weight updates)\n",
    "* momentum=0.9 - Helps prevent oscillations in updates\n",
    "* step_size = 7 - StepLR scheduler reduces learning rate every 7 epochs\n",
    "* gamma = 0.1 - Reduces LR by multiplying it by 0.1\n",
    "* lr_scheduler.StepLR - Helps fine-tune learning rate dynamically, prevents overshooting and improves convergence\n",
    "\n",
    "## How does the code work?\n",
    "\n",
    "1. Load ResNet-50 model with pretrained weights\n",
    "2. Modify fully connected layer for 47 classes\n",
    "3. Modify first convolutional layer for grayscale images\n",
    "4. Move model to device (GPU or CPU)\n",
    "5. Define loss function\n",
    "6. Define optimizer with momentum\n",
    "7. Apply learning rate scheduling\n",
    "8. Train model"
   ]
  },
  {
   "cell_type": "code",
   "execution_count": 10,
   "metadata": {
    "collapsed": false,
    "jupyter": {
     "outputs_hidden": false
    }
   },
   "outputs": [],
   "source": [
    "import torch\n",
    "import torchvision\n",
    "from torchvision.models import resnet50\n",
    "\n",
    "model = resnet50(weights='IMAGENET1K_V1')\n",
    "num_ftrs = model.fc.in_features\n",
    "num_classes = len(class_names)\n",
    "model.fc = nn.Linear(num_ftrs, num_classes)\n",
    "model.conv1 = nn.Conv2d(1, 64, kernel_size=3, padding=1)\n",
    "\n",
    "model = model.to(device)\n",
    "\n",
    "criterion = nn.CrossEntropyLoss()\n",
    "\n",
    "# Observe that all parameters are being optimized\n",
    "optimizer_ft = optim.SGD(model.parameters(), lr=0.002, momentum=0.9)\n",
    "\n",
    "# Decay LR by a factor of 0.1 every 7 epochs\n",
    "exp_lr_scheduler = lr_scheduler.StepLR(optimizer_ft, step_size=7, gamma=0.1)"
   ]
  },
  {
   "cell_type": "markdown",
   "metadata": {},
   "source": [
    "# Train and evaluate"
   ]
  },
  {
   "cell_type": "code",
   "execution_count": 11,
   "metadata": {
    "collapsed": false,
    "jupyter": {
     "outputs_hidden": false
    }
   },
   "outputs": [
    {
     "name": "stdout",
     "output_type": "stream",
     "text": [
      "Epoch 0/9\n",
      "----------\n"
     ]
    },
    {
     "name": "stderr",
     "output_type": "stream",
     "text": [
      "/home/moritz/miniconda3/envs/mnist_ml/lib/python3.12/site-packages/torch/nn/modules/linear.py:125: UserWarning: Attempting to use hipBLASLt on an unsupported architecture! Overriding blas backend to hipblas (Triggered internally at /pytorch/aten/src/ATen/Context.cpp:310.)\n",
      "  return F.linear(input, self.weight, self.bias)\n"
     ]
    },
    {
     "name": "stdout",
     "output_type": "stream",
     "text": [
      "train Loss: 0.6431 Acc: 0.8063\n",
      "test Loss: 0.3401 Acc: 0.8773\n",
      "\n",
      "Epoch 1/9\n",
      "----------\n",
      "train Loss: 0.2835 Acc: 0.8942\n",
      "test Loss: 0.3137 Acc: 0.8852\n",
      "\n",
      "Epoch 2/9\n",
      "----------\n",
      "train Loss: 0.2324 Acc: 0.9107\n",
      "test Loss: 0.3240 Acc: 0.8838\n",
      "\n",
      "Epoch 3/9\n",
      "----------\n",
      "train Loss: 0.1958 Acc: 0.9226\n",
      "test Loss: 0.3269 Acc: 0.8877\n",
      "\n",
      "Epoch 4/9\n",
      "----------\n",
      "train Loss: 0.1695 Acc: 0.9308\n",
      "test Loss: 0.3377 Acc: 0.8871\n",
      "\n",
      "Epoch 5/9\n",
      "----------\n",
      "train Loss: 0.1488 Acc: 0.9387\n",
      "test Loss: 0.3484 Acc: 0.8880\n",
      "\n",
      "Epoch 6/9\n",
      "----------\n",
      "train Loss: 0.1304 Acc: 0.9463\n",
      "test Loss: 0.3828 Acc: 0.8812\n",
      "\n",
      "Epoch 7/9\n",
      "----------\n",
      "train Loss: 0.0929 Acc: 0.9641\n",
      "test Loss: 0.3674 Acc: 0.8900\n",
      "\n",
      "Epoch 8/9\n",
      "----------\n",
      "train Loss: 0.0773 Acc: 0.9704\n",
      "test Loss: 0.3802 Acc: 0.8894\n",
      "\n",
      "Epoch 9/9\n",
      "----------\n",
      "train Loss: 0.0693 Acc: 0.9737\n",
      "test Loss: 0.3917 Acc: 0.8894\n",
      "\n",
      "Training complete in 9m 5s\n",
      "Best val Acc: 0.890000\n"
     ]
    }
   ],
   "source": [
    "model = train_model(model, criterion, optimizer_ft, exp_lr_scheduler,\n",
    "                       num_epochs=10)"
   ]
  },
  {
   "cell_type": "code",
   "execution_count": 12,
   "metadata": {
    "collapsed": false,
    "jupyter": {
     "outputs_hidden": false
    }
   },
   "outputs": [
    {
     "data": {
      "image/png": "[encoded data removed]",
      "text/plain": [
       "<Figure size 640x480 with 1 Axes>"
      ]
     },
     "metadata": {},
     "output_type": "display_data"
    },
    {
     "data": {
      "image/png": "[encoded data removed]",
      "text/plain": [
       "<Figure size 640x480 with 1 Axes>"
      ]
     },
     "metadata": {},
     "output_type": "display_data"
    },
    {
     "data": {
      "image/png": "[encoded data removed]",
      "text/plain": [
       "<Figure size 640x480 with 1 Axes>"
      ]
     },
     "metadata": {},
     "output_type": "display_data"
    },
    {
     "data": {
      "image/png": "[encoded data removed]",
      "text/plain": [
       "<Figure size 640x480 with 1 Axes>"
      ]
     },
     "metadata": {},
     "output_type": "display_data"
    },
    {
     "data": {
      "image/png": "[encoded data removed]",
      "text/plain": [
       "<Figure size 640x480 with 1 Axes>"
      ]
     },
     "metadata": {},
     "output_type": "display_data"
    },
    {
     "data": {
      "image/png": "[encoded data removed]",
      "text/plain": [
       "<Figure size 640x480 with 1 Axes>"
      ]
     },
     "metadata": {},
     "output_type": "display_data"
    }
   ],
   "source": [
    "visualize_model(model)"
   ]
  },
  {
   "cell_type": "markdown",
   "metadata": {},
   "source": [
    "# Visualize model prediction with actual values"
   ]
  },
  {
   "cell_type": "code",
   "execution_count": 13,
   "metadata": {},
   "outputs": [],
   "source": [
    "def visualize_model_predictions(model, dataloader, class_names, device, num_images):\n",
    "\n",
    "    was_training = model.training\n",
    "    model.eval()\n",
    "    images_shown = 0\n",
    "    fig = plt.figure()\n",
    "\n",
    "    with torch.no_grad():\n",
    "        for i, (inputs, labels) in enumerate(dataloader):\n",
    "            inputs = inputs.to(device)\n",
    "            labels = labels.to(device)\n",
    "\n",
    "            outputs = model(inputs)\n",
    "            _, preds = torch.max(outputs, 1)\n",
    "\n",
    "            for j in range(inputs.size(0)):\n",
    "                images_shown += 1\n",
    "                ax = plt.subplot(num_images // 2, 2, images_shown)\n",
    "                ax.axis('off')\n",
    "                ax.set_title(f'Actual: {class_names[labels[j]]}\\nPredicted: {class_names[preds[j]]}')\n",
    "                imshow(inputs.cpu().data[j])\n",
    "\n",
    "                if images_shown == num_images:\n",
    "                    model.train(mode=was_training)\n",
    "                    return\n",
    "        model.train(mode=was_training)"
   ]
  },
  {
   "cell_type": "markdown",
   "metadata": {},
   "source": [
    "# Explanations:\n",
    "\n",
    "---\n",
    "**was_training = model.training** - stores model's original mode\n",
    "\n",
    "**model.eval()** - sets model to evaluation mode, turns off drouput and batch norm updates\n",
    "\n",
    "**model(inputs)** - feeds images into model to get predicted outputs\n"
   ]
  },
  {
   "cell_type": "code",
   "execution_count": 14,
   "metadata": {},
   "outputs": [
    {
     "data": {
      "image/png": "[encoded data removed]",
      "text/plain": [
       "<Figure size 640x480 with 1 Axes>"
      ]
     },
     "metadata": {},
     "output_type": "display_data"
    },
    {
     "data": {
      "image/png": "[encoded data removed]",
      "text/plain": [
       "<Figure size 640x480 with 1 Axes>"
      ]
     },
     "metadata": {},
     "output_type": "display_data"
    },
    {
     "data": {
      "image/png": "[encoded data removed]",
      "text/plain": [
       "<Figure size 640x480 with 1 Axes>"
      ]
     },
     "metadata": {},
     "output_type": "display_data"
    },
    {
     "data": {
      "image/png": "[encoded data removed]",
      "text/plain": [
       "<Figure size 640x480 with 1 Axes>"
      ]
     },
     "metadata": {},
     "output_type": "display_data"
    },
    {
     "data": {
      "image/png": "[encoded data removed]",
      "text/plain": [
       "<Figure size 640x480 with 1 Axes>"
      ]
     },
     "metadata": {},
     "output_type": "display_data"
    },
    {
     "data": {
      "image/png": "[encoded data removed]",
      "text/plain": [
       "<Figure size 640x480 with 1 Axes>"
      ]
     },
     "metadata": {},
     "output_type": "display_data"
    },
    {
     "data": {
      "image/png": "[encoded data removed]",
      "text/plain": [
       "<Figure size 640x480 with 1 Axes>"
      ]
     },
     "metadata": {},
     "output_type": "display_data"
    },
    {
     "data": {
      "image/png": "[encoded data removed]",
      "text/plain": [
       "<Figure size 640x480 with 1 Axes>"
      ]
     },
     "metadata": {},
     "output_type": "display_data"
    },
    {
     "data": {
      "image/png": "[encoded data removed]",
      "text/plain": [
       "<Figure size 640x480 with 1 Axes>"
      ]
     },
     "metadata": {},
     "output_type": "display_data"
    },
    {
     "data": {
      "image/png": "[encoded data removed]",
      "text/plain": [
       "<Figure size 640x480 with 1 Axes>"
      ]
     },
     "metadata": {},
     "output_type": "display_data"
    }
   ],
   "source": [
    "visualize_model_predictions(\n",
    "    model=model,\n",
    "    dataloader=dataloaders['test'],\n",
    "    class_names=class_names,\n",
    "    device=device,\n",
    "    num_images=10\n",
    ")"
   ]
  },
  {
   "cell_type": "markdown",
   "metadata": {},
   "source": [
    "# Explanations:\n",
    "\n",
    "---\n",
    "**model = model** - make predictions on test images\n",
    "\n",
    "**dataloaders['test']** - provides test images and their actual labels.\n",
    "\n",
    "The function will loop through this dataloader to fetch a batch of test images.\n",
    "class_names to convert numeric labels to human-readable text.\n"
   ]
  }
 ],
 "metadata": {
  "kernelspec": {
   "display_name": "Python 3 (ipykernel)",
   "language": "python",
   "name": "python3"
  },
  "language_info": {
   "codemirror_mode": {
    "name": "ipython",
    "version": 3
   },
   "file_extension": ".py",
   "mimetype": "text/x-python",
   "name": "python",
   "nbconvert_exporter": "python",
   "pygments_lexer": "ipython3",
   "version": "3.12.8"
  }
 },
 "nbformat": 4,
 "nbformat_minor": 4
}
