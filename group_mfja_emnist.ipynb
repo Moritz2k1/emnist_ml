{
 "cells": [
  {
   "cell_type": "markdown",
   "metadata": {},
   "source": [
    "# Importing Packages"
   ]
  },
  {
   "cell_type": "code",
   "execution_count": 169,
   "metadata": {
    "collapsed": false,
    "jupyter": {
     "outputs_hidden": false
    }
   },
   "outputs": [
    {
     "data": {
      "text/plain": [
       "<contextlib.ExitStack at 0x73836c70f530>"
      ]
     },
     "execution_count": 169,
     "metadata": {},
     "output_type": "execute_result"
    }
   ],
   "source": [
    "# Load data\n",
    "import torch\n",
    "import torchvision\n",
    "from torchvision import datasets, models, transforms, utils\n",
    "from torch.utils.data import DataLoader\n",
    "\n",
    "# Visualize data\n",
    "import numpy as np\n",
    "import matplotlib.pyplot as plt\n",
    "\n",
    "# Training\n",
    "from tempfile import TemporaryDirectory\n",
    "import torch.nn as nn\n",
    "import torch.optim as optim\n",
    "from torch.optim import lr_scheduler\n",
    "import torch.backends.cudnn as cudnn\n",
    "from PIL import Image\n",
    "\n",
    "import time\n",
    "import os\n",
    "\n",
    "torch.cuda.empty_cache()\n",
    "cudnn.benchmark = True\n",
    "plt.ion()   # interactive mode"
   ]
  },
  {
   "cell_type": "markdown",
   "metadata": {},
   "source": [
    "# Load Data"
   ]
  },
  {
   "cell_type": "code",
   "execution_count": 170,
   "metadata": {
    "collapsed": false,
    "jupyter": {
     "outputs_hidden": false
    }
   },
   "outputs": [],
   "source": [
    "# Data augmentation and normalization for training\n",
    "# Just normalization for validation\n",
    "\n",
    "data_transform = {\n",
    "    'train' : transforms.Compose([\n",
    "        transforms.ToTensor(),\n",
    "        transforms.Normalize([0.1736,], [0.3248,])\n",
    "    ]),\n",
    "\n",
    "    'test' : transforms.Compose([\n",
    "        transforms.ToTensor(),\n",
    "        transforms.Normalize([0.1736,], [0.3248,])\n",
    "    ]),\n",
    "}\n",
    "\n",
    "data_dir = '/home/moritz/git/group_mfja_emnist/'\n",
    "\n",
    "image_datasets = {\n",
    "    'train': datasets.EMNIST(\n",
    "        root = data_dir,\n",
    "        split = 'balanced',\n",
    "        train = True,\n",
    "        download = True,\n",
    "        transform = data_transform['train']\n",
    "    ),\n",
    "\n",
    "    'test': datasets.EMNIST(\n",
    "        root = data_dir,\n",
    "        split = 'balanced',\n",
    "        train = False,\n",
    "        download = True,\n",
    "        transform = data_transform['test']\n",
    "    )\n",
    "}\n",
    "\n",
    "dataloaders = {\n",
    "    x: DataLoader(image_datasets[x], batch_size=128, shuffle=True, num_workers=4)\n",
    "    for x in ['train', 'test']\n",
    "}\n",
    "\n",
    "class_names = image_datasets['train'].classes\n",
    "dataset_sizes = {x: len(image_datasets[x]) for x in ['train', 'test']}\n",
    "\n",
    "device = torch.device(\"cuda:0\" if torch.cuda.is_available() else \"cpu\")"
   ]
  },
  {
   "cell_type": "markdown",
   "metadata": {},
   "source": [
    "# Visualize Data"
   ]
  },
  {
   "cell_type": "code",
   "execution_count": 171,
   "metadata": {},
   "outputs": [
    {
     "data": {
      "image/png": "[encoded data removed]",
      "text/plain": [
       "<Figure size 640x480 with 1 Axes>"
      ]
     },
     "metadata": {},
     "output_type": "display_data"
    }
   ],
   "source": [
    "def imshow(inp, title=None):\n",
    "    \"\"\"Display image for Tensor.\"\"\"\n",
    "    inp = inp.numpy().transpose((1, 2, 0))\n",
    "    mean = np.array([0.1736,])\n",
    "    std = np.array([0.3248,])\n",
    "    inp = std * inp + mean\n",
    "    inp = np.clip(inp, 0, 1)\n",
    "    plt.imshow(inp)\n",
    "    if title is not None:\n",
    "        plt.title(title)\n",
    "    plt.pause(0.001)  # pause a bit so that plots are updated\n",
    "\n",
    "# Get a batch of training data\n",
    "inputs, classes = next(iter(dataloaders['train']))\n",
    "\n",
    "# Make a grid from batch\n",
    "out = torchvision.utils.make_grid(inputs[:10], nrow=10)\n",
    "\n",
    "imshow(out, title=[class_names[x] for x in classes[:10]])"
   ]
  },
  {
   "cell_type": "markdown",
   "metadata": {},
   "source": [
    "Training the model\n",
    "==================\n",
    "\n",
    "Now, let\\'s write a general function to train a model. Here, we will\n",
    "illustrate:\n",
    "\n",
    "-   Scheduling the learning rate\n",
    "-   Saving the best model\n",
    "\n",
    "In the following, parameter `scheduler` is an LR scheduler object from\n",
    "`torch.optim.lr_scheduler`.\n"
   ]
  },
  {
   "cell_type": "code",
   "execution_count": 172,
   "metadata": {
    "collapsed": false,
    "jupyter": {
     "outputs_hidden": false
    }
   },
   "outputs": [],
   "source": [
    "def train_model(model, criterion, optimizer, scheduler, num_epochs=20):\n",
    "    since = time.time()\n",
    "\n",
    "    # Create a temporary directory to save training checkpoints\n",
    "    with TemporaryDirectory() as tempdir:\n",
    "        best_model_params_path = os.path.join(tempdir, 'best_model_params.pt')\n",
    "    \n",
    "        torch.save(model.state_dict(), best_model_params_path)\n",
    "        best_acc = 0.0\n",
    "\n",
    "        for epoch in range(num_epochs):\n",
    "            print(f'Epoch {epoch}/{num_epochs - 1}')\n",
    "            print('-' * 10)\n",
    "\n",
    "            # Each epoch has a training and validation phase\n",
    "            for phase in ['train', 'test']:\n",
    "                if phase == 'train':\n",
    "                    model.train()  # Set model to training mode\n",
    "                else:\n",
    "                    model.eval()   # Set model to evaluate mode\n",
    "\n",
    "                running_loss = 0.0\n",
    "                running_corrects = 0\n",
    "\n",
    "                # Iterate over data.\n",
    "                for inputs, labels in dataloaders[phase]:\n",
    "                    inputs = inputs.to(device)\n",
    "                    labels = labels.to(device)\n",
    "\n",
    "                    # zero the parameter gradients\n",
    "                    optimizer.zero_grad()\n",
    "\n",
    "                    # forward\n",
    "                    # track history if only in train\n",
    "                    with torch.set_grad_enabled(phase == 'train'):\n",
    "                        outputs = model(inputs)\n",
    "                        _, preds = torch.max(outputs, 1)\n",
    "                        loss = criterion(outputs, labels)\n",
    "\n",
    "                        # backward + optimize only if in training phase\n",
    "                        if phase == 'train':\n",
    "                            loss.backward()\n",
    "                            optimizer.step()\n",
    "\n",
    "                    # statistics\n",
    "                    running_loss += loss.item() * inputs.size(0)\n",
    "                    running_corrects += torch.sum(preds == labels.data)\n",
    "                if phase == 'train':\n",
    "                    scheduler.step()\n",
    "\n",
    "                epoch_loss = running_loss / dataset_sizes[phase]\n",
    "                epoch_acc = running_corrects.double() / dataset_sizes[phase]\n",
    "\n",
    "                print(f'{phase} Loss: {epoch_loss:.4f} Acc: {epoch_acc:.4f}')\n",
    "\n",
    "                # deep copy the model\n",
    "                if phase == 'test' and epoch_acc > best_acc:\n",
    "                    best_acc = epoch_acc\n",
    "                    torch.save(model.state_dict(), best_model_params_path)\n",
    "\n",
    "            print()\n",
    "\n",
    "        time_elapsed = time.time() - since\n",
    "        print(f'Training complete in {time_elapsed // 60:.0f}m {time_elapsed % 60:.0f}s')\n",
    "        print(f'Best val Acc: {best_acc:4f}')\n",
    "\n",
    "        # load best model weights\n",
    "        model.load_state_dict(torch.load(best_model_params_path, weights_only=True))\n",
    "    return model"
   ]
  },
  {
   "cell_type": "markdown",
   "metadata": {},
   "source": [
    "Visualizing the model predictions\n",
    "=================================\n",
    "\n",
    "Generic function to display predictions for a few images\n"
   ]
  },
  {
   "cell_type": "code",
   "execution_count": 173,
   "metadata": {
    "collapsed": false,
    "jupyter": {
     "outputs_hidden": false
    }
   },
   "outputs": [],
   "source": [
    "def visualize_model(model, num_images=6):\n",
    "    was_training = model.training\n",
    "    model.eval()\n",
    "    images_so_far = 0\n",
    "    fig = plt.figure()\n",
    "\n",
    "    with torch.no_grad():\n",
    "        for i, (inputs, labels) in enumerate(dataloaders['test']):\n",
    "            inputs = inputs.to(device)\n",
    "            labels = labels.to(device)\n",
    "\n",
    "            outputs = model(inputs)\n",
    "            _, preds = torch.max(outputs, 1)\n",
    "\n",
    "            for j in range(inputs.size()[0]):\n",
    "                images_so_far += 1\n",
    "                ax = plt.subplot(num_images//2, 2, images_so_far)\n",
    "                ax.axis('off')\n",
    "                ax.set_title(f'predicted: {class_names[preds[j]]}')\n",
    "                imshow(inputs.cpu().data[j])\n",
    "\n",
    "                if images_so_far == num_images:\n",
    "                    model.train(mode=was_training)\n",
    "                    return\n",
    "        model.train(mode=was_training)"
   ]
  },
  {
   "cell_type": "markdown",
   "metadata": {},
   "source": [
    "Finetuning the ConvNet\n",
    "======================\n",
    "\n",
    "Load a pretrained model and reset final fully connected layer.\n"
   ]
  },
  {
   "cell_type": "code",
   "execution_count": 174,
   "metadata": {
    "collapsed": false,
    "jupyter": {
     "outputs_hidden": false
    }
   },
   "outputs": [],
   "source": [
    "model_ft = models.resnet50(weights='IMAGENET1K_V1')\n",
    "num_ftrs = model_ft.fc.in_features\n",
    "# Here the size of each output sample is set to 2.\n",
    "# Alternatively, it can be generalized to ``nn.Linear(num_ftrs, len(class_names))``.\n",
    "num_classes = len(class_names)\n",
    "model_ft.fc = nn.Linear(num_ftrs, num_classes)\n",
    "model_ft.conv1 = nn.Conv2d(1, 64, kernel_size=3, padding=1)\n",
    "\n",
    "model_ft = model_ft.to(device)\n",
    "\n",
    "criterion = nn.CrossEntropyLoss()\n",
    "\n",
    "# Observe that all parameters are being optimized\n",
    "optimizer_ft = optim.SGD(model_ft.parameters(), lr=0.002, momentum=0.9)\n",
    "\n",
    "# Decay LR by a factor of 0.1 every 7 epochs\n",
    "exp_lr_scheduler = lr_scheduler.StepLR(optimizer_ft, step_size=7, gamma=0.1)"
   ]
  },
  {
   "cell_type": "markdown",
   "metadata": {},
   "source": [
    "Train and evaluate\n",
    "==================\n",
    "\n",
    "It should take around 15-25 min on CPU. On GPU though, it takes less\n",
    "than a minute.\n"
   ]
  },
  {
   "cell_type": "code",
   "execution_count": 175,
   "metadata": {
    "collapsed": false,
    "jupyter": {
     "outputs_hidden": false
    }
   },
   "outputs": [
    {
     "name": "stdout",
     "output_type": "stream",
     "text": [
      "Epoch 0/19\n",
      "----------\n",
      "train Loss: 0.6460 Acc: 0.8059\n",
      "test Loss: 0.3420 Acc: 0.8799\n",
      "\n",
      "Epoch 1/19\n",
      "----------\n",
      "train Loss: 0.2826 Acc: 0.8952\n",
      "test Loss: 0.3125 Acc: 0.8876\n",
      "\n",
      "Epoch 2/19\n",
      "----------\n",
      "train Loss: 0.2274 Acc: 0.9121\n",
      "test Loss: 0.3175 Acc: 0.8857\n",
      "\n",
      "Epoch 3/19\n",
      "----------\n",
      "train Loss: 0.1938 Acc: 0.9228\n",
      "test Loss: 0.3265 Acc: 0.8874\n",
      "\n",
      "Epoch 4/19\n",
      "----------\n",
      "train Loss: 0.1671 Acc: 0.9322\n",
      "test Loss: 0.3371 Acc: 0.8900\n",
      "\n",
      "Epoch 5/19\n",
      "----------\n",
      "train Loss: 0.1443 Acc: 0.9411\n",
      "test Loss: 0.3448 Acc: 0.8890\n",
      "\n",
      "Epoch 6/19\n",
      "----------\n",
      "train Loss: 0.1291 Acc: 0.9462\n",
      "test Loss: 0.3771 Acc: 0.8857\n",
      "\n",
      "Epoch 7/19\n",
      "----------\n",
      "train Loss: 0.0892 Acc: 0.9650\n",
      "test Loss: 0.3681 Acc: 0.8947\n",
      "\n",
      "Epoch 8/19\n",
      "----------\n",
      "train Loss: 0.0741 Acc: 0.9718\n",
      "test Loss: 0.3803 Acc: 0.8927\n",
      "\n",
      "Epoch 9/19\n",
      "----------\n",
      "train Loss: 0.0657 Acc: 0.9755\n",
      "test Loss: 0.3939 Acc: 0.8912\n",
      "\n",
      "Epoch 10/19\n",
      "----------\n",
      "train Loss: 0.0595 Acc: 0.9779\n",
      "test Loss: 0.4043 Acc: 0.8899\n",
      "\n",
      "Epoch 11/19\n",
      "----------\n",
      "train Loss: 0.0536 Acc: 0.9804\n",
      "test Loss: 0.4176 Acc: 0.8900\n",
      "\n",
      "Epoch 12/19\n",
      "----------\n",
      "train Loss: 0.0485 Acc: 0.9829\n",
      "test Loss: 0.4305 Acc: 0.8894\n",
      "\n",
      "Epoch 13/19\n",
      "----------\n",
      "train Loss: 0.0433 Acc: 0.9853\n",
      "test Loss: 0.4501 Acc: 0.8881\n",
      "\n",
      "Epoch 14/19\n",
      "----------\n",
      "train Loss: 0.0372 Acc: 0.9879\n",
      "test Loss: 0.4462 Acc: 0.8877\n",
      "\n",
      "Epoch 15/19\n",
      "----------\n",
      "train Loss: 0.0365 Acc: 0.9884\n",
      "test Loss: 0.4483 Acc: 0.8882\n",
      "\n",
      "Epoch 16/19\n",
      "----------\n",
      "train Loss: 0.0351 Acc: 0.9893\n",
      "test Loss: 0.4493 Acc: 0.8872\n",
      "\n",
      "Epoch 17/19\n",
      "----------\n",
      "train Loss: 0.0347 Acc: 0.9891\n",
      "test Loss: 0.4475 Acc: 0.8876\n",
      "\n",
      "Epoch 18/19\n",
      "----------\n",
      "train Loss: 0.0339 Acc: 0.9895\n",
      "test Loss: 0.4520 Acc: 0.8881\n",
      "\n",
      "Epoch 19/19\n",
      "----------\n",
      "train Loss: 0.0334 Acc: 0.9898\n",
      "test Loss: 0.4541 Acc: 0.8888\n",
      "\n",
      "Training complete in 17m 56s\n",
      "Best val Acc: 0.894734\n"
     ]
    }
   ],
   "source": [
    "model_ft = train_model(model_ft, criterion, optimizer_ft, exp_lr_scheduler,\n",
    "                       num_epochs=20)"
   ]
  },
  {
   "cell_type": "code",
   "execution_count": 176,
   "metadata": {
    "collapsed": false,
    "jupyter": {
     "outputs_hidden": false
    }
   },
   "outputs": [
    {
     "data": {
      "image/png": "[encoded data removed]",
      "text/plain": [
       "<Figure size 640x480 with 1 Axes>"
      ]
     },
     "metadata": {},
     "output_type": "display_data"
    },
    {
     "data": {
      "image/png": "[encoded data removed]",
      "text/plain": [
       "<Figure size 640x480 with 1 Axes>"
      ]
     },
     "metadata": {},
     "output_type": "display_data"
    },
    {
     "data": {
      "image/png": "[encoded data removed]",
      "text/plain": [
       "<Figure size 640x480 with 1 Axes>"
      ]
     },
     "metadata": {},
     "output_type": "display_data"
    },
    {
     "data": {
      "image/png": "[encoded data removed]",
      "text/plain": [
       "<Figure size 640x480 with 1 Axes>"
      ]
     },
     "metadata": {},
     "output_type": "display_data"
    },
    {
     "data": {
      "image/png": "[encoded data removed]",
      "text/plain": [
       "<Figure size 640x480 with 1 Axes>"
      ]
     },
     "metadata": {},
     "output_type": "display_data"
    },
    {
     "data": {
      "image/png": "[encoded data removed]",
      "text/plain": [
       "<Figure size 640x480 with 1 Axes>"
      ]
     },
     "metadata": {},
     "output_type": "display_data"
    }
   ],
   "source": [
    "visualize_model(model_ft)"
   ]
  },
  {
   "cell_type": "markdown",
   "metadata": {},
   "source": [
    "ConvNet as fixed feature extractor\n",
    "==================================\n",
    "\n",
    "Here, we need to freeze all the network except the final layer. We need\n",
    "to set `requires_grad = False` to freeze the parameters so that the\n",
    "gradients are not computed in `backward()`.\n",
    "\n",
    "You can read more about this in the documentation\n",
    "[here](https://pytorch.org/docs/notes/autograd.html#excluding-subgraphs-from-backward).\n"
   ]
  },
  {
   "cell_type": "code",
   "execution_count": 177,
   "metadata": {
    "collapsed": false,
    "jupyter": {
     "outputs_hidden": false
    }
   },
   "outputs": [],
   "source": [
    "model_conv = torchvision.models.resnet50(weights='IMAGENET1K_V1')\n",
    "for param in model_conv.parameters():\n",
    "    param.requires_grad = False\n",
    "\n",
    "# Parameters of newly constructed modules have requires_grad=True by default\n",
    "num_ftrs = model_conv.fc.in_features\n",
    "model_conv.fc = nn.Linear(num_ftrs, num_classes)\n",
    "model_conv.conv1 = nn.Conv2d(1, 64, kernel_size=3, padding=1)\n",
    "\n",
    "model_conv = model_conv.to(device)\n",
    "\n",
    "criterion = nn.CrossEntropyLoss()\n",
    "\n",
    "# Observe that only parameters of final layer are being optimized as\n",
    "# opposed to before.\n",
    "optimizer_conv = optim.SGD(model_conv.fc.parameters(), lr=0.01, momentum=0.9)\n",
    "\n",
    "# Decay LR by a factor of 0.1 every 7 epochs\n",
    "exp_lr_scheduler = lr_scheduler.StepLR(optimizer_conv, step_size=8, gamma=0.1)"
   ]
  },
  {
   "cell_type": "markdown",
   "metadata": {},
   "source": [
    "Train and evaluate\n",
    "==================\n",
    "\n",
    "On CPU this will take about half the time compared to previous scenario.\n",
    "This is expected as gradients don\\'t need to be computed for most of the\n",
    "network. However, forward does need to be computed.\n"
   ]
  },
  {
   "cell_type": "code",
   "execution_count": 178,
   "metadata": {
    "collapsed": false,
    "jupyter": {
     "outputs_hidden": false
    }
   },
   "outputs": [
    {
     "name": "stdout",
     "output_type": "stream",
     "text": [
      "Epoch 0/19\n",
      "----------\n",
      "train Loss: 1.8831 Acc: 0.4857\n",
      "test Loss: 1.6536 Acc: 0.5349\n",
      "\n",
      "Epoch 1/19\n",
      "----------\n",
      "train Loss: 1.5124 Acc: 0.5705\n",
      "test Loss: 1.5235 Acc: 0.5674\n",
      "\n",
      "Epoch 2/19\n",
      "----------\n",
      "train Loss: 1.4049 Acc: 0.5948\n",
      "test Loss: 1.4562 Acc: 0.5836\n",
      "\n",
      "Epoch 3/19\n",
      "----------\n",
      "train Loss: 1.3278 Acc: 0.6149\n",
      "test Loss: 1.4286 Acc: 0.5897\n",
      "\n",
      "Epoch 4/19\n",
      "----------\n",
      "train Loss: 1.2735 Acc: 0.6289\n",
      "test Loss: 1.3927 Acc: 0.5967\n",
      "\n",
      "Epoch 5/19\n",
      "----------\n",
      "train Loss: 1.2333 Acc: 0.6379\n",
      "test Loss: 1.3756 Acc: 0.6037\n",
      "\n",
      "Epoch 6/19\n",
      "----------\n",
      "train Loss: 1.1958 Acc: 0.6472\n",
      "test Loss: 1.3409 Acc: 0.6130\n",
      "\n",
      "Epoch 7/19\n",
      "----------\n",
      "train Loss: 1.1673 Acc: 0.6538\n",
      "test Loss: 1.3349 Acc: 0.6162\n",
      "\n",
      "Epoch 8/19\n",
      "----------\n",
      "train Loss: 1.0589 Acc: 0.6882\n",
      "test Loss: 1.2753 Acc: 0.6289\n",
      "\n",
      "Epoch 9/19\n",
      "----------\n",
      "train Loss: 1.0458 Acc: 0.6933\n",
      "test Loss: 1.2725 Acc: 0.6312\n",
      "\n",
      "Epoch 10/19\n",
      "----------\n",
      "train Loss: 1.0388 Acc: 0.6953\n",
      "test Loss: 1.2690 Acc: 0.6301\n",
      "\n",
      "Epoch 11/19\n",
      "----------\n",
      "train Loss: 1.0335 Acc: 0.6963\n",
      "test Loss: 1.2576 Acc: 0.6352\n",
      "\n",
      "Epoch 12/19\n",
      "----------\n",
      "train Loss: 1.0311 Acc: 0.6988\n",
      "test Loss: 1.2546 Acc: 0.6340\n",
      "\n",
      "Epoch 13/19\n",
      "----------\n",
      "train Loss: 1.0283 Acc: 0.6980\n",
      "test Loss: 1.2565 Acc: 0.6333\n",
      "\n",
      "Epoch 14/19\n",
      "----------\n",
      "train Loss: 1.0264 Acc: 0.6991\n",
      "test Loss: 1.2576 Acc: 0.6328\n",
      "\n",
      "Epoch 15/19\n",
      "----------\n",
      "train Loss: 1.0231 Acc: 0.7004\n",
      "test Loss: 1.2537 Acc: 0.6338\n",
      "\n",
      "Epoch 16/19\n",
      "----------\n",
      "train Loss: 1.0127 Acc: 0.7036\n",
      "test Loss: 1.2518 Acc: 0.6341\n",
      "\n",
      "Epoch 17/19\n",
      "----------\n",
      "train Loss: 1.0148 Acc: 0.7026\n",
      "test Loss: 1.2500 Acc: 0.6368\n",
      "\n",
      "Epoch 18/19\n",
      "----------\n",
      "train Loss: 1.0102 Acc: 0.7053\n",
      "test Loss: 1.2510 Acc: 0.6334\n",
      "\n",
      "Epoch 19/19\n",
      "----------\n",
      "train Loss: 1.0136 Acc: 0.7037\n",
      "test Loss: 1.2513 Acc: 0.6340\n",
      "\n",
      "Training complete in 9m 58s\n",
      "Best val Acc: 0.636755\n"
     ]
    }
   ],
   "source": [
    "model_conv = train_model(model_conv, criterion, optimizer_conv,\n",
    "                         exp_lr_scheduler, num_epochs=20)"
   ]
  },
  {
   "cell_type": "code",
   "execution_count": 179,
   "metadata": {
    "collapsed": false,
    "jupyter": {
     "outputs_hidden": false
    }
   },
   "outputs": [
    {
     "data": {
      "image/png": "[encoded data removed]",
      "text/plain": [
       "<Figure size 640x480 with 1 Axes>"
      ]
     },
     "metadata": {},
     "output_type": "display_data"
    },
    {
     "data": {
      "image/png": "[encoded data removed]",
      "text/plain": [
       "<Figure size 640x480 with 1 Axes>"
      ]
     },
     "metadata": {},
     "output_type": "display_data"
    },
    {
     "data": {
      "image/png": "[encoded data removed]",
      "text/plain": [
       "<Figure size 640x480 with 1 Axes>"
      ]
     },
     "metadata": {},
     "output_type": "display_data"
    },
    {
     "data": {
      "image/png": "[encoded data removed]",
      "text/plain": [
       "<Figure size 640x480 with 1 Axes>"
      ]
     },
     "metadata": {},
     "output_type": "display_data"
    },
    {
     "data": {
      "image/png": "[encoded data removed]",
      "text/plain": [
       "<Figure size 640x480 with 1 Axes>"
      ]
     },
     "metadata": {},
     "output_type": "display_data"
    },
    {
     "data": {
      "image/png": "[encoded data removed]",
      "text/plain": [
       "<Figure size 640x480 with 1 Axes>"
      ]
     },
     "metadata": {},
     "output_type": "display_data"
    }
   ],
   "source": [
    "visualize_model(model_conv)\n",
    "\n",
    "plt.ioff()\n",
    "plt.show()"
   ]
  },
  {
   "cell_type": "markdown",
   "metadata": {},
   "source": [
    "Inference on custom images\n",
    "==========================\n",
    "\n",
    "Use the trained model to make predictions on custom images and visualize\n",
    "the predicted class labels along with the images.\n"
   ]
  },
  {
   "cell_type": "code",
   "execution_count": 180,
   "metadata": {},
   "outputs": [],
   "source": [
    "def visualize_model_predictions(model, dataloader, class_names, device, num_images):\n",
    "\n",
    "    was_training = model.training\n",
    "    model.eval()\n",
    "    images_shown = 0\n",
    "    fig = plt.figure()\n",
    "\n",
    "    with torch.no_grad():\n",
    "        for i, (inputs, labels) in enumerate(dataloader):\n",
    "            inputs = inputs.to(device)\n",
    "            labels = labels.to(device)\n",
    "\n",
    "            outputs = model(inputs)\n",
    "            _, preds = torch.max(outputs, 1)\n",
    "\n",
    "            for j in range(inputs.size(0)):\n",
    "                images_shown += 1\n",
    "                ax = plt.subplot(num_images // 2, 2, images_shown)\n",
    "                ax.axis('off')\n",
    "                ax.set_title(f'Actual: {class_names[labels[j]]}\\nPredicted: {class_names[preds[j]]}')\n",
    "                imshow(inputs.cpu().data[j])\n",
    "\n",
    "                if images_shown == num_images:\n",
    "                    model.train(mode=was_training)\n",
    "                    return\n",
    "        model.train(mode=was_training)"
   ]
  },
  {
   "cell_type": "code",
   "execution_count": 181,
   "metadata": {},
   "outputs": [
    {
     "data": {
      "image/png": "[encoded data removed]",
      "text/plain": [
       "<Figure size 640x480 with 1 Axes>"
      ]
     },
     "metadata": {},
     "output_type": "display_data"
    },
    {
     "data": {
      "image/png": "[encoded data removed]",
      "text/plain": [
       "<Figure size 640x480 with 1 Axes>"
      ]
     },
     "metadata": {},
     "output_type": "display_data"
    },
    {
     "data": {
      "image/png": "[encoded data removed]",
      "text/plain": [
       "<Figure size 640x480 with 1 Axes>"
      ]
     },
     "metadata": {},
     "output_type": "display_data"
    },
    {
     "data": {
      "image/png": "[encoded data removed]",
      "text/plain": [
       "<Figure size 640x480 with 1 Axes>"
      ]
     },
     "metadata": {},
     "output_type": "display_data"
    },
    {
     "data": {
      "image/png": "[encoded data removed]",
      "text/plain": [
       "<Figure size 640x480 with 1 Axes>"
      ]
     },
     "metadata": {},
     "output_type": "display_data"
    },
    {
     "data": {
      "image/png": "[encoded data removed]",
      "text/plain": [
       "<Figure size 640x480 with 1 Axes>"
      ]
     },
     "metadata": {},
     "output_type": "display_data"
    }
   ],
   "source": [
    "visualize_model_predictions(\n",
    "    model=model_conv,\n",
    "    dataloader=dataloaders['test'],\n",
    "    class_names=class_names,\n",
    "    device=device,\n",
    "    num_images=6\n",
    ")"
   ]
  },
  {
   "cell_type": "code",
   "execution_count": null,
   "metadata": {},
   "outputs": [],
   "source": []
  }
 ],
 "metadata": {
  "kernelspec": {
   "display_name": "Python 3 (ipykernel)",
   "language": "python",
   "name": "python3"
  },
  "language_info": {
   "codemirror_mode": {
    "name": "ipython",
    "version": 3
   },
   "file_extension": ".py",
   "mimetype": "text/x-python",
   "name": "python",
   "nbconvert_exporter": "python",
   "pygments_lexer": "ipython3",
   "version": "3.12.8"
  }
 },
 "nbformat": 4,
 "nbformat_minor": 4
}
